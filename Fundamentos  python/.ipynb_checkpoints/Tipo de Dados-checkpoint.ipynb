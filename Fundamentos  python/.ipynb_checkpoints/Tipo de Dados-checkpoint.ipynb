{
 "cells": [
  {
   "cell_type": "markdown",
   "id": "8a84f067-5d24-40fd-9395-ea2b0f74dbf6",
   "metadata": {},
   "source": [
    "Tipos comuns\n",
    "\n",
    "Inteiro / Integer"
   ]
  },
  {
   "cell_type": "code",
   "execution_count": 1,
   "id": "27e12dab-a1a4-4f76-8242-320c5e9f8286",
   "metadata": {},
   "outputs": [],
   "source": [
    "#inteiro\n",
    "\n",
    "idade = 23\n",
    "temperatura = -4\n",
    "numeroGrande = 123456789"
   ]
  },
  {
   "cell_type": "markdown",
   "id": "5a53be9f-a470-46d6-8528-ce4ec0873969",
   "metadata": {},
   "source": [
    "Float / Decimal"
   ]
  },
  {
   "cell_type": "code",
   "execution_count": 3,
   "id": "29a345a6-5121-48e0-9e9f-809764e46f7a",
   "metadata": {},
   "outputs": [
    {
     "data": {
      "text/plain": [
       "70.3"
      ]
     },
     "execution_count": 3,
     "metadata": {},
     "output_type": "execute_result"
    }
   ],
   "source": [
    "#float\n",
    "\n",
    "peso = 70.3\n",
    "\n",
    "peso"
   ]
  },
  {
   "cell_type": "markdown",
   "id": "51d07748-06d7-4ba5-8b6a-93375783fb90",
   "metadata": {},
   "source": [
    "String / Texto"
   ]
  },
  {
   "cell_type": "code",
   "execution_count": 5,
   "id": "ee1a121c-92c8-48c1-9501-0c4e7e6b594f",
   "metadata": {},
   "outputs": [
    {
     "data": {
      "text/plain": [
       "False"
      ]
     },
     "execution_count": 5,
     "metadata": {},
     "output_type": "execute_result"
    }
   ],
   "source": [
    "#equivalente\n",
    "nome = \"Clayver Correa\"\n",
    "\n",
    "numeroA = 1\n",
    "numeroB = \"1\"\n",
    "\n",
    "numeroA == numeroB"
   ]
  },
  {
   "cell_type": "markdown",
   "id": "2bf09b47-0a3c-4858-ab7b-4e2829484940",
   "metadata": {},
   "source": [
    "Booleano\n",
    "\n",
    "True e False"
   ]
  },
  {
   "cell_type": "code",
   "execution_count": 8,
   "id": "1e14ae0b-4ecd-45dc-9f9d-39fdf3dbe27f",
   "metadata": {},
   "outputs": [
    {
     "data": {
      "text/plain": [
       "False"
      ]
     },
     "execution_count": 8,
     "metadata": {},
     "output_type": "execute_result"
    }
   ],
   "source": [
    "#exemplo de uma variável booleana\n",
    "linguagem_1 = \"Python\"\n",
    "linguagem_2 = \"Java\"\n",
    "\n",
    "linguagem_1 == linguagem_2\n",
    "\n",
    "verdadeiro = True\n",
    "verdadeiro\n",
    "\n",
    "#exemplo de variável booleana\n",
    "falso = False\n",
    "falso"
   ]
  },
  {
   "cell_type": "markdown",
   "id": "c960ca82-fe2b-419a-8f2f-94e95fc5b67d",
   "metadata": {},
   "source": [
    "Verificando tipo de dados com Python"
   ]
  },
  {
   "cell_type": "code",
   "execution_count": 12,
   "id": "290df8b4-c3eb-473e-8d74-dc4f524c923b",
   "metadata": {},
   "outputs": [
    {
     "name": "stdout",
     "output_type": "stream",
     "text": [
      "<class 'int'>\n",
      "<class 'float'>\n",
      "<class 'str'>\n",
      "<class 'list'>\n",
      "<class 'tuple'>\n",
      "<class 'dict'>\n",
      "<class 'bool'>\n"
     ]
    }
   ],
   "source": [
    "#exemplo de variáveis de diferentes tipos\n",
    "type(linguagem_2)\n",
    "type(falso)\n",
    "type(numeroA)\n",
    "\n",
    "#verificando os tipos\n",
    "#exemplo de variáveis de diferentes tipos\n",
    "\n",
    "inteiro = 23\n",
    "flutuante = 3.14\n",
    "texto = \"ola,mundo!\"\n",
    "lista = [1,2,3]\n",
    "tupla = (1,3)\n",
    "dicionario = {'a': 1, 'b': 2}\n",
    "booleano = True\n",
    "\n",
    "#verificando os tipos\n",
    "print(type(inteiro))\n",
    "print(type(flutuante))\n",
    "print(type(texto))\n",
    "print(type(lista))\n",
    "print(type(tupla))\n",
    "print(type(dicionario))\n",
    "print(type(booleano))"
   ]
  },
  {
   "cell_type": "markdown",
   "id": "0a1f6f7e-1f65-47b0-91de-3e8254645f7c",
   "metadata": {},
   "source": [
    "Formatando strings\n",
    "\n",
    "Formato Strings Utilizando %"
   ]
  },
  {
   "cell_type": "code",
   "execution_count": 11,
   "id": "122750e3-2963-499b-95e0-2ff1f6062d9d",
   "metadata": {},
   "outputs": [
    {
     "data": {
      "text/plain": [
       "'O Iphone 15 Pro Max foi lancado em 2023 e custa $ 1299.Mas a taxa de conversao real para dolar e 4.95 real para 1 dolar'"
      ]
     },
     "execution_count": 11,
     "metadata": {},
     "output_type": "execute_result"
    }
   ],
   "source": [
    "marca = \"Iphone 15 Pro Max\"\n",
    "lancamento = 2023\n",
    "valor = 1299\n",
    "taxaDolar = 4.95\n",
    "\n",
    "#\"O \" + marca + \"foi lancado em \" + str(lancamento)\n",
    "\n",
    "\"O %s foi lancado em %d e custa $ %d.Mas a taxa de conversao real para dolar e %.2f real para 1 dolar\"%(marca, lancamento, valor, taxaDolar)"
   ]
  },
  {
   "cell_type": "markdown",
   "id": "684770c9-8119-4c3f-b286-c0bd9f25c2b0",
   "metadata": {},
   "source": [
    "Formatando Strings Utilizando o Format()"
   ]
  },
  {
   "cell_type": "code",
   "execution_count": 16,
   "id": "ccad7803-d3a7-4d70-88b5-adb1b9af620a",
   "metadata": {},
   "outputs": [
    {
     "data": {
      "text/plain": [
       "'O Iphone 15 Pro Max foi lancado em 2023 e custa $1299.Mas a taxa de conversao real para dolar e 4.95 real para 1 dolar'"
      ]
     },
     "execution_count": 16,
     "metadata": {},
     "output_type": "execute_result"
    }
   ],
   "source": [
    "marca = \"Iphone 15 Pro Max\"\n",
    "lancamento = 2023\n",
    "valor = 1299\n",
    "taxaDolar = 4.95\n",
    "\n",
    "\"O {0} foi lancado em {1} e custa ${2}.Mas a taxa de conversao real para dolar e {3} real para 1 dolar\".format(marca, lancamento, valor, taxaDolar)"
   ]
  },
  {
   "cell_type": "code",
   "execution_count": 17,
   "id": "3622170b-f541-49e3-86a9-47b606897bb5",
   "metadata": {},
   "outputs": [
    {
     "data": {
      "text/plain": [
       "'O Iphone 15 Pro Max foi lancado em 2023 e custa $1299.Mas a taxa de conversao real para dolar e 4.95 real para 1 dolar'"
      ]
     },
     "execution_count": 17,
     "metadata": {},
     "output_type": "execute_result"
    }
   ],
   "source": [
    "f\"O {marca} foi lancado em {lancamento} e custa ${valor}.Mas a taxa de conversao real para dolar e {taxaDolar} real para 1 dolar\""
   ]
  },
  {
   "cell_type": "markdown",
   "id": "9396aca5-ef39-45fe-8a73-3087e805c347",
   "metadata": {},
   "source": [
    "Convertendo Tipo de Dados"
   ]
  },
  {
   "cell_type": "code",
   "execution_count": 3,
   "id": "9970b121-0a52-435d-bfc6-01cb5db0878f",
   "metadata": {},
   "outputs": [
    {
     "data": {
      "text/plain": [
       "'2'"
      ]
     },
     "execution_count": 3,
     "metadata": {},
     "output_type": "execute_result"
    }
   ],
   "source": [
    "numero = int('2')\n",
    "str(numero)"
   ]
  },
  {
   "cell_type": "code",
   "execution_count": 4,
   "id": "38d48911-5581-4cd6-a017-4807c97a468a",
   "metadata": {},
   "outputs": [
    {
     "data": {
      "text/plain": [
       "int"
      ]
     },
     "execution_count": 4,
     "metadata": {},
     "output_type": "execute_result"
    }
   ],
   "source": [
    "type(numero)"
   ]
  },
  {
   "cell_type": "markdown",
   "id": "d715aaa2-18f7-4f58-a67e-a5c5db2e431c",
   "metadata": {},
   "source": [
    "Listas"
   ]
  },
  {
   "cell_type": "code",
   "execution_count": 31,
   "id": "39212210-5e61-48b2-9df1-b8d7c866f8ff",
   "metadata": {},
   "outputs": [
    {
     "data": {
      "text/plain": [
       "(['Clayver', 'Audileia', 'Glenda'], [23, 50, 27])"
      ]
     },
     "execution_count": 31,
     "metadata": {},
     "output_type": "execute_result"
    }
   ],
   "source": [
    "#declarando uma lista\n",
    "\n",
    "minhaLista = [1, 2, 3, 4]\n",
    "minhaLista\n",
    "\n",
    "nomeUsuario = [\"Clayver\",\"Audileia\",\"Glenda\"]\n",
    "idadeUsuario = [23,50,27]\n",
    "nomeUsuario,idadeUsuario"
   ]
  },
  {
   "cell_type": "code",
   "execution_count": 32,
   "id": "fd8ec890-c200-4ee8-9697-a2672c80dff4",
   "metadata": {},
   "outputs": [
    {
     "data": {
      "text/plain": [
       "['Clayver', 'Audileia', 'Glenda', 'Rodrigo']"
      ]
     },
     "execution_count": 32,
     "metadata": {},
     "output_type": "execute_result"
    }
   ],
   "source": [
    "#adicionando itens na lista \n",
    "nomeUsuario.append(\"Rodrigo\")\n",
    "idadeUsuario.append(29)\n",
    "\n",
    "nomeUsuario "
   ]
  },
  {
   "cell_type": "code",
   "execution_count": 33,
   "id": "487e4832-689c-4f55-b23e-1b066df2b239",
   "metadata": {},
   "outputs": [
    {
     "data": {
      "text/plain": [
       "['Audileia', 'Glenda', 'Rodrigo']"
      ]
     },
     "execution_count": 33,
     "metadata": {},
     "output_type": "execute_result"
    }
   ],
   "source": [
    "nomeUsuario.remove(\"Clayver\")\n",
    "nomeUsuario"
   ]
  },
  {
   "cell_type": "code",
   "execution_count": 35,
   "id": "7bb87a8e-e69b-4047-950a-baca6159e92c",
   "metadata": {},
   "outputs": [
    {
     "data": {
      "text/plain": [
       "(['Audileia', 'Glenda', 'Rodrigo'], [23, 50, 27, 29])"
      ]
     },
     "execution_count": 35,
     "metadata": {},
     "output_type": "execute_result"
    }
   ],
   "source": [
    "nomeUsuario,idadeUsuario"
   ]
  },
  {
   "cell_type": "code",
   "execution_count": 36,
   "id": "cfb20998-0cc7-4fa4-b3d5-bf7dc0d6950d",
   "metadata": {},
   "outputs": [
    {
     "data": {
      "text/plain": [
       "['Audileia', 'Glenda', 'Rodrigo', 'Clayver']"
      ]
     },
     "execution_count": 36,
     "metadata": {},
     "output_type": "execute_result"
    }
   ],
   "source": [
    "nomeUsuario.append(\"Clayver\")\n",
    "\n",
    "nomeUsuario"
   ]
  },
  {
   "cell_type": "code",
   "execution_count": 37,
   "id": "d0e7fced-3bfa-41ed-8a54-1e78f1a8b665",
   "metadata": {},
   "outputs": [
    {
     "data": {
      "text/plain": [
       "(['Audileia', 'Glenda', 'Rodrigo', 'Clayver'], [23, 50, 27, 29])"
      ]
     },
     "execution_count": 37,
     "metadata": {},
     "output_type": "execute_result"
    }
   ],
   "source": [
    "nomeUsuario,idadeUsuario"
   ]
  },
  {
   "cell_type": "code",
   "execution_count": 40,
   "id": "d2d7534e-c724-4476-a38b-fe3a1a9d7ab3",
   "metadata": {},
   "outputs": [
    {
     "data": {
      "text/plain": [
       "49"
      ]
     },
     "execution_count": 40,
     "metadata": {},
     "output_type": "execute_result"
    }
   ],
   "source": [
    "#encontrando valor por indice\n",
    "\n",
    "idadeAlunos = [50, 30, 32, 19, 23, 51, 22, 18, 42, 27, 48, 49]\n",
    "\n",
    "idadeAlunos[11]"
   ]
  },
  {
   "cell_type": "code",
   "execution_count": 43,
   "id": "c89d4882-944a-49b0-86f3-603f0b7f0e13",
   "metadata": {},
   "outputs": [
    {
     "data": {
      "text/plain": [
       "27"
      ]
     },
     "execution_count": 43,
     "metadata": {},
     "output_type": "execute_result"
    }
   ],
   "source": [
    "#da esquerda(valor positivo)\n",
    "idadeAlunos[3]\n",
    "\n",
    "#da direita(valor negativo)\n",
    "idadeAlunos[-3]\n"
   ]
  },
  {
   "cell_type": "code",
   "execution_count": 47,
   "id": "5f6ce82a-d83b-4cb6-9a18-1980d039646e",
   "metadata": {},
   "outputs": [
    {
     "data": {
      "text/plain": [
       "[42, 27, 48, 49]"
      ]
     },
     "execution_count": 47,
     "metadata": {},
     "output_type": "execute_result"
    }
   ],
   "source": [
    "idadeAlunos = [50, 30, 32, 19, 23, 51, 22, 18, 42, 27, 48, 49]\n",
    "\n",
    "#da esquerda(valor positivo)\n",
    "idadeAlunos[:5]\n",
    "\n",
    "#da direita(valor negativo)\n",
    "idadeAlunos[-4:]\n"
   ]
  },
  {
   "cell_type": "code",
   "execution_count": 48,
   "id": "7d6623fc-fa61-4390-a142-bf26e12d5d1e",
   "metadata": {},
   "outputs": [
    {
     "data": {
      "text/plain": [
       "[23, 51, 22, 18, 42, 27]"
      ]
     },
     "execution_count": 48,
     "metadata": {},
     "output_type": "execute_result"
    }
   ],
   "source": [
    "idadeAlunos = [50, 30, 32, 19, 23, 51, 22, 18, 42, 27, 48, 49]\n",
    "\n",
    "#buscando um intervalo de itens\n",
    "#idadeAlunos[2:5] 2 ao 5-1\n",
    "\n",
    "idadeAlunos[4:10]"
   ]
  },
  {
   "cell_type": "markdown",
   "id": "168eabb4-1cd7-4404-af89-62abb04499c5",
   "metadata": {},
   "source": [
    "\n",
    "\n"
   ]
  },
  {
   "cell_type": "code",
   "execution_count": 49,
   "id": "0ed83dbc-4b1c-4b9a-ba41-2f0ec3590bdf",
   "metadata": {},
   "outputs": [
    {
     "data": {
      "text/plain": [
       "[50, 32, 23, 22, 42, 48]"
      ]
     },
     "execution_count": 49,
     "metadata": {},
     "output_type": "execute_result"
    }
   ],
   "source": [
    "#acessando intervalo\n",
    "idadeAlunos = [50, 30, 32, 19, 23, 51, 22, 18, 42, 27, 48, 49]\n",
    "\n",
    "idadeAlunos[0:11:2]\n"
   ]
  },
  {
   "cell_type": "code",
   "execution_count": 50,
   "id": "54399af5-9726-41f5-a9ba-22b0723b1273",
   "metadata": {},
   "outputs": [
    {
     "data": {
      "text/plain": [
       "[32, 30, 32, 19, 23, 51, 22, 18, 42, 27, 48, 49]"
      ]
     },
     "execution_count": 50,
     "metadata": {},
     "output_type": "execute_result"
    }
   ],
   "source": [
    "#alterando valores\n",
    "idadeAlunos = [50, 30, 32, 19, 23, 51, 22, 18, 42, 27, 48, 49]\n",
    "\n",
    "idadeAlunos[0] = 32\n",
    "idadeAlunos"
   ]
  },
  {
   "cell_type": "markdown",
   "id": "9548d618-6504-453f-b87b-f2c51df4e320",
   "metadata": {},
   "source": [
    "Tuplas"
   ]
  },
  {
   "cell_type": "code",
   "execution_count": 54,
   "id": "d439ed9f-6bce-439b-8e26-3cd920806d6d",
   "metadata": {},
   "outputs": [
    {
     "data": {
      "text/plain": [
       "('Jan',\n",
       " 'Fev',\n",
       " 'Mar',\n",
       " 'Abr',\n",
       " 'Mai',\n",
       " 'Jun',\n",
       " 'Jul',\n",
       " 'Ago',\n",
       " 'Set',\n",
       " 'Out',\n",
       " 'Nov',\n",
       " 'Dez')"
      ]
     },
     "execution_count": 54,
     "metadata": {},
     "output_type": "execute_result"
    }
   ],
   "source": [
    "mesesDoAno = (\"Jan\", \"Fev\", \"Mar\", \"Abr\", \"Mai\", \"Jun\", \"Jul\", \"Ago\", \"Set\", \"Out\", \"Nov\", \"Dez\")\n",
    "\n",
    "mesesDoAno"
   ]
  },
  {
   "cell_type": "code",
   "execution_count": 56,
   "id": "5500e814-5558-4e43-befc-178f3d06393b",
   "metadata": {},
   "outputs": [
    {
     "data": {
      "text/plain": [
       "('Abr', 'Mai', 'Jun')"
      ]
     },
     "execution_count": 56,
     "metadata": {},
     "output_type": "execute_result"
    }
   ],
   "source": [
    "#acessando valores\n",
    "\n",
    "mesesDoAno[3:6]"
   ]
  },
  {
   "cell_type": "markdown",
   "id": "9040f0bc-55dc-433d-a6c4-df8768b96904",
   "metadata": {},
   "source": [
    "Dicionarios"
   ]
  },
  {
   "cell_type": "code",
   "execution_count": 1,
   "id": "850f8ad4-0628-4042-acfe-d8072969e9de",
   "metadata": {},
   "outputs": [
    {
     "data": {
      "text/plain": [
       "{'nome': 'joão', 'idade': 30}"
      ]
     },
     "execution_count": 1,
     "metadata": {},
     "output_type": "execute_result"
    }
   ],
   "source": [
    "meuDicionario = {\"nome\":\"joão\",\"idade\":30}\n",
    "\n",
    "meuDicionario"
   ]
  },
  {
   "cell_type": "code",
   "execution_count": 2,
   "id": "1db7f1db-2759-4833-9691-f82a814293c4",
   "metadata": {},
   "outputs": [
    {
     "data": {
      "text/plain": [
       "dict"
      ]
     },
     "execution_count": 2,
     "metadata": {},
     "output_type": "execute_result"
    }
   ],
   "source": [
    "type(meuDicionario)"
   ]
  },
  {
   "cell_type": "code",
   "execution_count": 8,
   "id": "56f271d2-03ee-4614-a10d-a00d2476f3b0",
   "metadata": {},
   "outputs": [
    {
     "data": {
      "text/plain": [
       "{'Huguinho': 18, 'Zezinho': 19, 'Luizinho': 20}"
      ]
     },
     "execution_count": 8,
     "metadata": {},
     "output_type": "execute_result"
    }
   ],
   "source": [
    "#criando um dicionario com o nome e idade de usuarios\n",
    "\n",
    "usuario = {\n",
    "    \"Huguinho\": 18,\n",
    "    \"Zezinho\" : 19,\n",
    "    \"Luizinho\": 20\n",
    "}\n",
    "\n",
    "usuario"
   ]
  },
  {
   "cell_type": "code",
   "execution_count": 9,
   "id": "f10d105a-b111-4a8c-a698-ad8c3ecf3e01",
   "metadata": {},
   "outputs": [
    {
     "data": {
      "text/plain": [
       "20"
      ]
     },
     "execution_count": 9,
     "metadata": {},
     "output_type": "execute_result"
    }
   ],
   "source": [
    "#imprimindo um item\n",
    "usuario[\"Luizinho\"]\n"
   ]
  },
  {
   "cell_type": "code",
   "execution_count": 11,
   "id": "4a747178-8a3b-4a99-94ca-c048c82c58ed",
   "metadata": {},
   "outputs": [
    {
     "data": {
      "text/plain": [
       "{'Huguinho': 18, 'Zezinho': 19, 'Luizinho': 22}"
      ]
     },
     "execution_count": 11,
     "metadata": {},
     "output_type": "execute_result"
    }
   ],
   "source": [
    "#alterando item\n",
    "usuario[\"Luizinho\"] = 22\n",
    "usuario"
   ]
  },
  {
   "cell_type": "markdown",
   "id": "70320174-fafb-4595-86b2-8b85823be906",
   "metadata": {},
   "source": [
    "Criando uma lista de dicionarios"
   ]
  },
  {
   "cell_type": "code",
   "execution_count": 19,
   "id": "01c48a88-b1ae-4903-bab4-889818e065ff",
   "metadata": {},
   "outputs": [
    {
     "data": {
      "text/plain": [
       "[{'nome': 'Huguinho', 'idade': 18},\n",
       " {'nome': 'Zezinho', 'idade': 19},\n",
       " {'nome': 'Luizinho', 'idade': 22},\n",
       " {'nome': 'Jorginho', 'idade': 37}]"
      ]
     },
     "execution_count": 19,
     "metadata": {},
     "output_type": "execute_result"
    }
   ],
   "source": [
    "listaUsuario = [\n",
    "    {\"nome\":\"Huguinho\",\"idade\":18},\n",
    "    {\"nome\":\"Zezinho\",\"idade\":19},\n",
    "    {\"nome\":\"Luizinho\",\"idade\":22},\n",
    "    {\"nome\":\"Jorginho\",\"idade\":37},\n",
    "]\n",
    "\n",
    "listaUsuario"
   ]
  },
  {
   "cell_type": "code",
   "execution_count": 20,
   "id": "3dc394b9-3f59-43b7-a1dc-dcac5d6d7155",
   "metadata": {},
   "outputs": [],
   "source": [
    "import pandas as pd"
   ]
  },
  {
   "cell_type": "code",
   "execution_count": 23,
   "id": "c12367fc-9d7b-400f-a276-97dbfe626b16",
   "metadata": {},
   "outputs": [
    {
     "data": {
      "text/html": [
       "<div>\n",
       "<style scoped>\n",
       "    .dataframe tbody tr th:only-of-type {\n",
       "        vertical-align: middle;\n",
       "    }\n",
       "\n",
       "    .dataframe tbody tr th {\n",
       "        vertical-align: top;\n",
       "    }\n",
       "\n",
       "    .dataframe thead th {\n",
       "        text-align: right;\n",
       "    }\n",
       "</style>\n",
       "<table border=\"1\" class=\"dataframe\">\n",
       "  <thead>\n",
       "    <tr style=\"text-align: right;\">\n",
       "      <th></th>\n",
       "      <th>nome</th>\n",
       "      <th>idade</th>\n",
       "    </tr>\n",
       "  </thead>\n",
       "  <tbody>\n",
       "    <tr>\n",
       "      <th>0</th>\n",
       "      <td>Huguinho</td>\n",
       "      <td>18</td>\n",
       "    </tr>\n",
       "    <tr>\n",
       "      <th>1</th>\n",
       "      <td>Zezinho</td>\n",
       "      <td>19</td>\n",
       "    </tr>\n",
       "    <tr>\n",
       "      <th>2</th>\n",
       "      <td>Luizinho</td>\n",
       "      <td>22</td>\n",
       "    </tr>\n",
       "    <tr>\n",
       "      <th>3</th>\n",
       "      <td>Jorginho</td>\n",
       "      <td>37</td>\n",
       "    </tr>\n",
       "  </tbody>\n",
       "</table>\n",
       "</div>"
      ],
      "text/plain": [
       "       nome  idade\n",
       "0  Huguinho     18\n",
       "1   Zezinho     19\n",
       "2  Luizinho     22\n",
       "3  Jorginho     37"
      ]
     },
     "execution_count": 23,
     "metadata": {},
     "output_type": "execute_result"
    }
   ],
   "source": [
    "df = pd.DataFrame(listaUsuario)\n",
    "df"
   ]
  },
  {
   "cell_type": "code",
   "execution_count": 26,
   "id": "5eee28d4-6000-42b3-b861-743de17af813",
   "metadata": {},
   "outputs": [
    {
     "data": {
      "text/html": [
       "<div>\n",
       "<style scoped>\n",
       "    .dataframe tbody tr th:only-of-type {\n",
       "        vertical-align: middle;\n",
       "    }\n",
       "\n",
       "    .dataframe tbody tr th {\n",
       "        vertical-align: top;\n",
       "    }\n",
       "\n",
       "    .dataframe thead th {\n",
       "        text-align: right;\n",
       "    }\n",
       "</style>\n",
       "<table border=\"1\" class=\"dataframe\">\n",
       "  <thead>\n",
       "    <tr style=\"text-align: right;\">\n",
       "      <th></th>\n",
       "      <th>nome</th>\n",
       "      <th>idade</th>\n",
       "    </tr>\n",
       "  </thead>\n",
       "  <tbody>\n",
       "    <tr>\n",
       "      <th>0</th>\n",
       "      <td>Huguinho</td>\n",
       "      <td>18</td>\n",
       "    </tr>\n",
       "    <tr>\n",
       "      <th>1</th>\n",
       "      <td>Zezinho</td>\n",
       "      <td>19</td>\n",
       "    </tr>\n",
       "    <tr>\n",
       "      <th>2</th>\n",
       "      <td>Luizinho</td>\n",
       "      <td>22</td>\n",
       "    </tr>\n",
       "  </tbody>\n",
       "</table>\n",
       "</div>"
      ],
      "text/plain": [
       "       nome  idade\n",
       "0  Huguinho     18\n",
       "1   Zezinho     19\n",
       "2  Luizinho     22"
      ]
     },
     "execution_count": 26,
     "metadata": {},
     "output_type": "execute_result"
    }
   ],
   "source": [
    "df.head(3)"
   ]
  },
  {
   "cell_type": "code",
   "execution_count": null,
   "id": "d726c260-de89-48a8-bf5f-9a388c0cdcfc",
   "metadata": {},
   "outputs": [],
   "source": []
  }
 ],
 "metadata": {
  "kernelspec": {
   "display_name": "Python 3 (ipykernel)",
   "language": "python",
   "name": "python3"
  },
  "language_info": {
   "codemirror_mode": {
    "name": "ipython",
    "version": 3
   },
   "file_extension": ".py",
   "mimetype": "text/x-python",
   "name": "python",
   "nbconvert_exporter": "python",
   "pygments_lexer": "ipython3",
   "version": "3.11.7"
  }
 },
 "nbformat": 4,
 "nbformat_minor": 5
}
