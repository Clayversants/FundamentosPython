{
 "cells": [
  {
   "cell_type": "code",
   "execution_count": 1,
   "id": "fd6d16f0-b103-46fa-bf9e-8f88bd6bd948",
   "metadata": {},
   "outputs": [
    {
     "data": {
      "text/plain": [
       "True"
      ]
     },
     "execution_count": 1,
     "metadata": {},
     "output_type": "execute_result"
    }
   ],
   "source": [
    " #igual\n",
    "1==1"
   ]
  },
  {
   "cell_type": "code",
   "execution_count": 2,
   "id": "45978185-25a0-4248-9a6c-e72140c62f4e",
   "metadata": {},
   "outputs": [
    {
     "data": {
      "text/plain": [
       "True"
      ]
     },
     "execution_count": 2,
     "metadata": {},
     "output_type": "execute_result"
    }
   ],
   "source": [
    " #diferente\n",
    "1 != 12"
   ]
  },
  {
   "cell_type": "code",
   "execution_count": 3,
   "id": "ca41b680-c570-47a9-b585-6dcd58556264",
   "metadata": {},
   "outputs": [
    {
     "data": {
      "text/plain": [
       "True"
      ]
     },
     "execution_count": 3,
     "metadata": {},
     "output_type": "execute_result"
    }
   ],
   "source": [
    " #maior\n",
    "\n",
    "5 > 3"
   ]
  },
  {
   "cell_type": "code",
   "execution_count": 4,
   "id": "b222d762-25d2-4f95-9c43-5a1c2a9bb2f2",
   "metadata": {},
   "outputs": [
    {
     "data": {
      "text/plain": [
       "True"
      ]
     },
     "execution_count": 4,
     "metadata": {},
     "output_type": "execute_result"
    }
   ],
   "source": [
    " #maior ou igual\n",
    "\n",
    "5 >= 3"
   ]
  },
  {
   "cell_type": "code",
   "execution_count": 5,
   "id": "7c48b078-e599-4deb-89c3-cf139b6f533b",
   "metadata": {},
   "outputs": [
    {
     "data": {
      "text/plain": [
       "True"
      ]
     },
     "execution_count": 5,
     "metadata": {},
     "output_type": "execute_result"
    }
   ],
   "source": [
    " #menor\n",
    "\n",
    "4 < 7"
   ]
  },
  {
   "cell_type": "code",
   "execution_count": 6,
   "id": "f47770eb-bb7a-4c28-90fb-914d664d599b",
   "metadata": {},
   "outputs": [
    {
     "data": {
      "text/plain": [
       "True"
      ]
     },
     "execution_count": 6,
     "metadata": {},
     "output_type": "execute_result"
    }
   ],
   "source": [
    "#menor ou igual\n",
    "\n",
    "7 <= 7"
   ]
  },
  {
   "cell_type": "code",
   "execution_count": 7,
   "id": "b6927272-e1df-4763-928e-1959580add9a",
   "metadata": {},
   "outputs": [
    {
     "data": {
      "text/plain": [
       "True"
      ]
     },
     "execution_count": 7,
     "metadata": {},
     "output_type": "execute_result"
    }
   ],
   "source": [
    "#está dentro\n",
    "\n",
    "lista = [5,6,7,8,9]\n",
    "\n",
    "8 in lista"
   ]
  },
  {
   "cell_type": "markdown",
   "id": "0a96c6cc-aff6-4b9b-9d42-382fc9c992c3",
   "metadata": {},
   "source": [
    "IF Else"
   ]
  },
  {
   "cell_type": "code",
   "execution_count": 8,
   "id": "09ee52a0-f236-41e7-baa2-7f1c999830d5",
   "metadata": {},
   "outputs": [
    {
     "name": "stdout",
     "output_type": "stream",
     "text": [
      "Voce não foi aprovado. Volte estudar\n"
     ]
    }
   ],
   "source": [
    "#IF\n",
    "\n",
    "nota = 7.5\n",
    "\n",
    "if nota >= 9:\n",
    "    print(\"Vc foi aprovado. Parabens!\")\n",
    "else:\n",
    "    print(\"Voce não foi aprovado. Volte estudar\")"
   ]
  },
  {
   "cell_type": "code",
   "execution_count": 9,
   "id": "d948d716-0888-4d82-838e-fa29462e4cec",
   "metadata": {},
   "outputs": [],
   "source": [
    "#IF sem else\n",
    "\n",
    "nota = 5\n",
    "\n",
    "if nota >= 9:\n",
    "    print(\"Vc foi aprovado. Parabens!\")"
   ]
  },
  {
   "cell_type": "code",
   "execution_count": 10,
   "id": "10050388-73d6-4906-bc7a-cec847ed89b8",
   "metadata": {},
   "outputs": [
    {
     "name": "stdout",
     "output_type": "stream",
     "text": [
      "Voce obteve uma nota C.\n"
     ]
    }
   ],
   "source": [
    "#elif\n",
    "\n",
    "nota = 6\n",
    "\n",
    "if nota >= 9:\n",
    "    print(\"Voce obteve uma nota A.\")\n",
    "elif nota >= 8:\n",
    "    print(\"Voce obteve uma nota B.\")\n",
    "elif nota >= 6:\n",
    "    print(\"Voce obteve uma nota C.\")\n",
    "else:\n",
    "    print(\"Reprovado! Volte estudar!\")\n"
   ]
  },
  {
   "cell_type": "code",
   "execution_count": 11,
   "id": "6b2e505f-9003-489b-847f-a5d620e2a340",
   "metadata": {},
   "outputs": [
    {
     "name": "stdout",
     "output_type": "stream",
     "text": [
      "Parabens. Voce ganhou, o numero 15 foi sorteado!\n"
     ]
    }
   ],
   "source": [
    "#in\n",
    "\n",
    "#em uma urna com 10 numeros entre 5 e 20, escolha um numeero pra ser sorteado\n",
    "\n",
    "numero = 15\n",
    "\n",
    "rifa = [20,14,5,6,10,15,8,12,7]\n",
    "\n",
    "if numero in rifa:\n",
    "    print(f\"Parabens. Voce ganhou, o numero {numero} foi sorteado!\")\n",
    "else:\n",
    "    print(f\"Tente novamente.o numero {numero}  não foi sorteado!\")"
   ]
  },
  {
   "cell_type": "code",
   "execution_count": 12,
   "id": "9d7b301a-93f2-4f8c-9f5c-779aef62e770",
   "metadata": {},
   "outputs": [
    {
     "data": {
      "text/plain": [
       "True"
      ]
     },
     "execution_count": 12,
     "metadata": {},
     "output_type": "execute_result"
    }
   ],
   "source": [
    "numero in rifa"
   ]
  },
  {
   "cell_type": "code",
   "execution_count": 13,
   "id": "e65bfc42-dd89-4f48-9811-03baf0295f5e",
   "metadata": {},
   "outputs": [
    {
     "name": "stdout",
     "output_type": "stream",
     "text": [
      "Parabens. Voce ganhou, o numero 5 foi sorteado!\n"
     ]
    }
   ],
   "source": [
    "#or = |\n",
    "\n",
    "#em uma urna com 10 numeros entre 5 e 20, escolha um numeero pra ser sorteado\n",
    "#adicionando outra condição\n",
    "\n",
    "numero = 5\n",
    "\n",
    "rifa = [20,14,5,6,10,15,8,12,7]\n",
    "\n",
    "if numero < 5 or numero > 20:\n",
    "     print(f\"Atenção.o numero {numero} nao esta no intervalo solicitado!\")\n",
    "elif numero in rifa:\n",
    "    print(f\"Parabens. Voce ganhou, o numero {numero} foi sorteado!\")\n",
    "else:\n",
    "    print(f\"Tente novamente.o numero {numero}  não foi sorteado!\")"
   ]
  },
  {
   "cell_type": "code",
   "execution_count": 14,
   "id": "a983b1f3-12d1-45b3-9153-449d2808d965",
   "metadata": {},
   "outputs": [
    {
     "name": "stdout",
     "output_type": "stream",
     "text": [
      "Prabens! o numero 20 foi sorteado!\n"
     ]
    }
   ],
   "source": [
    "#and = &\n",
    "\n",
    "#adicionando outra condição\n",
    "\n",
    "numero = 20\n",
    "\n",
    "rifa = [20,14,5,6,10,15,8,12,7]\n",
    "\n",
    "if numero <= 5 & numero >= 20:\n",
    "    print(f\"Atenção.o numero {numero} nao esta no intervalo solicitado!\")\n",
    "elif numero in rifa:\n",
    "    print(f\"Prabens! o numero {numero} foi sorteado!\")\n",
    "else:\n",
    "    print(f\"Tente novamente! o numero {numero} nao foi sorteado!\")"
   ]
  },
  {
   "cell_type": "markdown",
   "id": "9d9962d4-33f0-4f87-b7ed-94080b556173",
   "metadata": {},
   "source": [
    "Inline IF"
   ]
  },
  {
   "cell_type": "code",
   "execution_count": 15,
   "id": "b9ce1c79-e59e-4b8f-9c83-6c1f9f6eb775",
   "metadata": {},
   "outputs": [
    {
     "name": "stdout",
     "output_type": "stream",
     "text": [
      "Maior de Idade\n"
     ]
    }
   ],
   "source": [
    "#Inline IF\n",
    "\n",
    "idade = 18\n",
    "\n",
    "mensagem = \"Maior de Idade\" if idade >= 18 else \"Menor de Idade\"\n",
    "\n",
    "if idade >= 18:\n",
    "    mensagem = \"Maior de Idade\"\n",
    "else:\n",
    "    mensagem = \"Menor de Idade\"\n",
    "    \n",
    "print(mensagem)\n"
   ]
  },
  {
   "cell_type": "markdown",
   "id": "f6c08b1a-4878-4a04-996d-2a72acfa9188",
   "metadata": {},
   "source": [
    "For Loop"
   ]
  },
  {
   "cell_type": "code",
   "execution_count": 16,
   "id": "761a2711-f78d-4e64-a933-b63ee93ad3b5",
   "metadata": {},
   "outputs": [
    {
     "name": "stdout",
     "output_type": "stream",
     "text": [
      "Banana\n",
      "Maça\n",
      "Laranja\n"
     ]
    }
   ],
   "source": [
    "#Iterar por uma lista\n",
    "\n",
    "cestaDeFrutas = [\n",
    "    \"Banana\",\n",
    "    \"Maça\",\n",
    "    \"Laranja\"\n",
    "]\n",
    "\n",
    "for fruta in cestaDeFrutas:\n",
    "    print(fruta)"
   ]
  },
  {
   "cell_type": "code",
   "execution_count": 17,
   "id": "f425bac3-37f3-4ef7-82ff-e5f079b375ac",
   "metadata": {},
   "outputs": [
    {
     "name": "stdout",
     "output_type": "stream",
     "text": [
      "1 1\n",
      "2 3\n",
      "3 6\n",
      "4 10\n",
      "5 15\n",
      "6 21\n",
      "7 28\n",
      "8 36\n",
      "9 45\n"
     ]
    }
   ],
   "source": [
    "#Iterar por intervalo do números\n",
    "\n",
    "numeros = [1,2,3,4,5,6,7,8,9]\n",
    "\n",
    "acumulado = 0\n",
    "\n",
    "#for numero in range(1, 7):\n",
    "for numero in numeros:\n",
    "    acumulado += numero\n",
    "    print(numero,acumulado)"
   ]
  },
  {
   "cell_type": "code",
   "execution_count": 18,
   "id": "a1be8437-30a9-41da-aa8f-958ac43a5aae",
   "metadata": {},
   "outputs": [
    {
     "name": "stdout",
     "output_type": "stream",
     "text": [
      "P\n",
      "y\n",
      "t\n",
      "h\n",
      "o\n",
      "n\n"
     ]
    }
   ],
   "source": [
    "#Iterar por uma string\n",
    "\n",
    "palavra = \"Python\"\n",
    "\n",
    "for letra in palavra:\n",
    "    print(letra)"
   ]
  },
  {
   "cell_type": "markdown",
   "id": "76692e74-d211-48ac-9033-9aa11562d2dd",
   "metadata": {},
   "source": [
    "While Loop"
   ]
  },
  {
   "cell_type": "code",
   "execution_count": 20,
   "id": "e5d4b05a-f8a8-40a2-9c00-81fc7670b2df",
   "metadata": {},
   "outputs": [
    {
     "name": "stdout",
     "output_type": "stream",
     "text": [
      "5\n",
      "4\n",
      "3\n",
      "2\n",
      "1\n"
     ]
    }
   ],
   "source": [
    "#contagem regressiva\n",
    "\n",
    "contador = 5\n",
    "\n",
    "while contador > 0:\n",
    "    print(contador)\n",
    "    contador -= 1\n"
   ]
  },
  {
   "cell_type": "code",
   "execution_count": 24,
   "id": "bf9efba0-42b3-4225-8e80-eaaaefe205d6",
   "metadata": {
    "scrolled": true
   },
   "outputs": [
    {
     "name": "stdout",
     "output_type": "stream",
     "text": [
      "0\n"
     ]
    },
    {
     "name": "stdin",
     "output_type": "stream",
     "text": [
      "digite um numero 2\n"
     ]
    },
    {
     "name": "stdout",
     "output_type": "stream",
     "text": [
      "2\n"
     ]
    },
    {
     "name": "stdin",
     "output_type": "stream",
     "text": [
      "digite um numero 1\n"
     ]
    },
    {
     "name": "stdout",
     "output_type": "stream",
     "text": [
      "3\n"
     ]
    },
    {
     "name": "stdin",
     "output_type": "stream",
     "text": [
      "digite um numero 2\n"
     ]
    },
    {
     "name": "stdout",
     "output_type": "stream",
     "text": [
      "5\n"
     ]
    },
    {
     "name": "stdin",
     "output_type": "stream",
     "text": [
      "digite um numero 2\n"
     ]
    },
    {
     "name": "stdout",
     "output_type": "stream",
     "text": [
      "7\n"
     ]
    },
    {
     "name": "stdin",
     "output_type": "stream",
     "text": [
      "digite um numero 3\n"
     ]
    }
   ],
   "source": [
    "#soma ate certo valor\n",
    "soma = 0\n",
    "limite = 10\n",
    "\n",
    "while soma < limite:\n",
    "    print(soma)\n",
    "    numero = int(input(\"digite um numero\"))\n",
    "    soma += numero\n"
   ]
  },
  {
   "cell_type": "markdown",
   "id": "f51fb0b6-e74f-4c40-b0c8-a510afcc998b",
   "metadata": {},
   "source": [
    "Break"
   ]
  },
  {
   "cell_type": "code",
   "execution_count": 42,
   "id": "163ea2d6-cda4-43de-9428-0f3f2fa3dd76",
   "metadata": {},
   "outputs": [
    {
     "name": "stdout",
     "output_type": "stream",
     "text": [
      "Maça\n",
      "Banana\n",
      "Laranja\n",
      "Encontramos a laranja. Vamos parar o Loop\n"
     ]
    }
   ],
   "source": [
    "#Break\n",
    "\n",
    "cestaDeFrutas = [\"Maça\",\"Banana\",\"Laranja\",\"Uva\",\"Morango\"]\n",
    "\n",
    "for fruta in cestaDeFrutas:\n",
    "    print(fruta)\n",
    "\n",
    "    if fruta == \"Laranja\":\n",
    "        print(\"Encontramos a laranja. Vamos parar o Loop\")\n",
    "        break"
   ]
  },
  {
   "cell_type": "code",
   "execution_count": 43,
   "id": "8b9cb415-115c-45a2-a47e-9552684ab661",
   "metadata": {},
   "outputs": [
    {
     "name": "stdout",
     "output_type": "stream",
     "text": [
      "Maça\n",
      "Banana\n",
      "Encotramos a laranja! Vamos pular para a proxima iteração.\n",
      "Uva\n",
      "Morango\n"
     ]
    }
   ],
   "source": [
    "#Continue\n",
    "\n",
    "cestaDeFrutas = [\"Maça\",\"Banana\",\"Laranja\",\"Uva\",\"Morango\"]\n",
    "\n",
    "for fruta in cestaDeFrutas:\n",
    "    if fruta == \"Laranja\":\n",
    "        print(\"Encotramos a laranja! Vamos pular para a proxima iteração.\")\n",
    "        continue\n",
    "\n",
    "    print(fruta)\n",
    "    \n",
    "    "
   ]
  },
  {
   "cell_type": "code",
   "execution_count": 47,
   "id": "a32e2ad2-ad0a-4ddf-b84d-f65522a1c960",
   "metadata": {},
   "outputs": [
    {
     "name": "stdout",
     "output_type": "stream",
     "text": [
      "Acumulado: 0\n"
     ]
    },
    {
     "name": "stdin",
     "output_type": "stream",
     "text": [
      "Informe um numero 11\n"
     ]
    },
    {
     "name": "stdout",
     "output_type": "stream",
     "text": [
      "Numero: 11\n"
     ]
    }
   ],
   "source": [
    "#Try except\n",
    "\n",
    "limite = 10\n",
    "acumulado = 0\n",
    "\n",
    "    \n",
    "while acumulado < limite:\n",
    "\n",
    " try:\n",
    "        \n",
    "    print(f\"Acumulado: {acumulado}\")\n",
    "    numero = int(input(\"Informe um numero\"))\n",
    "    print(f\"Numero: {numero}\")\n",
    "    acumulado += numero\n",
    " except:\n",
    "     print(\"Valor informado nao valido\")"
   ]
  },
  {
   "cell_type": "code",
   "execution_count": null,
   "id": "36d24a43-4a1f-4a75-a31c-13cd931d0c31",
   "metadata": {},
   "outputs": [],
   "source": []
  }
 ],
 "metadata": {
  "kernelspec": {
   "display_name": "Python 3 (ipykernel)",
   "language": "python",
   "name": "python3"
  },
  "language_info": {
   "codemirror_mode": {
    "name": "ipython",
    "version": 3
   },
   "file_extension": ".py",
   "mimetype": "text/x-python",
   "name": "python",
   "nbconvert_exporter": "python",
   "pygments_lexer": "ipython3",
   "version": "3.11.7"
  }
 },
 "nbformat": 4,
 "nbformat_minor": 5
}
