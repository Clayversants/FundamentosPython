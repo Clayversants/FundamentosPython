{
 "cells": [
  {
   "cell_type": "markdown",
   "id": "4c012227-984c-49e9-a8da-cbb1dd7abcbf",
   "metadata": {},
   "source": [
    "Variáveis e Operadores\n",
    "\n",
    "O que são Variáveis?"
   ]
  },
  {
   "cell_type": "code",
   "execution_count": 1,
   "id": "eea22b86-9aae-44a8-a7a7-0f3b8bb33090",
   "metadata": {},
   "outputs": [],
   "source": [
    "#pode adicionar textos e numeros\n",
    "nomeUsuario = \"Clayver\"\n",
    "Idade = 23"
   ]
  },
  {
   "cell_type": "code",
   "execution_count": 2,
   "id": "ce821b65-39fb-48f4-8c0f-3f37f68ea92d",
   "metadata": {},
   "outputs": [
    {
     "name": "stdout",
     "output_type": "stream",
     "text": [
      "Clayver 23\n"
     ]
    }
   ],
   "source": [
    "print(nomeUsuario,Idade)"
   ]
  },
  {
   "cell_type": "code",
   "execution_count": 5,
   "id": "866771d4-c950-4e76-b87f-ce2976dd6442",
   "metadata": {},
   "outputs": [
    {
     "name": "stdout",
     "output_type": "stream",
     "text": [
      "Clayver 23\n"
     ]
    }
   ],
   "source": [
    "#atribuir mais de uma variável na mesma linha\n",
    "nomeUsuario,Idade = \"Clayver\" , 23\n",
    "\n",
    "print(nomeUsuario,Idade)"
   ]
  },
  {
   "cell_type": "code",
   "execution_count": 6,
   "id": "8bd2efaa-d8e1-4a3c-a985-06462adbef56",
   "metadata": {},
   "outputs": [
    {
     "name": "stdout",
     "output_type": "stream",
     "text": [
      "Clayver 23\n"
     ]
    }
   ],
   "source": [
    "#equivalente\n",
    "nomeUsuario = \"Clayver\"\n",
    "Idade = 23\n",
    "\n",
    "print(nomeUsuario,Idade)"
   ]
  },
  {
   "cell_type": "markdown",
   "id": "edfd3e5d-e2db-4bd3-943d-efbf1635b84d",
   "metadata": {},
   "source": [
    "Nomeando Variáveis"
   ]
  },
  {
   "cell_type": "code",
   "execution_count": 12,
   "id": "28459b75-0538-4037-94e7-401988cd7cc5",
   "metadata": {
    "scrolled": true
   },
   "outputs": [
    {
     "name": "stdout",
     "output_type": "stream",
     "text": [
      "Clayver\n"
     ]
    }
   ],
   "source": [
    "#permitido\n",
    "nome_usuario = \"Clayver\"\n",
    "\n",
    "nome_usuario2 = \"Clayver\"\n",
    "\n",
    "NOMEUSUARIO = \"Clayver\"\n",
    "\n",
    "#não permitido\n",
    "\n",
    "# 1_nome = \"Bruce\"\n",
    "#nome*usuario = \"Bruce\""
   ]
  },
  {
   "cell_type": "code",
   "execution_count": null,
   "id": "0b43179e-b087-4c9a-99e8-747ffd35a160",
   "metadata": {},
   "outputs": [],
   "source": [
    "#palavras reservadas\n",
    "\n",
    "# if = \"Clayver\"\n",
    "# for = \"Clayver\"\n",
    "# while = \"Clayver\"\n",
    "\n",
    "#não permitido\n",
    "\n",
    "# print = \"impressora01\"\n",
    "# input = \"input\"\n",
    "    "
   ]
  },
  {
   "cell_type": "markdown",
   "id": "fbe34baf-6c15-42b7-a1ad-f62c55fc3760",
   "metadata": {},
   "source": [
    "Atribuindo valores para variável "
   ]
  },
  {
   "cell_type": "code",
   "execution_count": 23,
   "id": "995737fa-cd2e-4971-a530-475cf89854f5",
   "metadata": {},
   "outputs": [
    {
     "data": {
      "text/plain": [
       "(10, 15)"
      ]
     },
     "execution_count": 23,
     "metadata": {},
     "output_type": "execute_result"
    }
   ],
   "source": [
    "x,y = 10,15\n",
    "\n",
    "x,y"
   ]
  },
  {
   "cell_type": "markdown",
   "id": "b5641cea-1f40-47ef-ac7a-e9a5d84dc616",
   "metadata": {},
   "source": [
    "Operadores matemáticos"
   ]
  },
  {
   "cell_type": "code",
   "execution_count": 27,
   "id": "56ccfffb-5b11-43ae-9f7f-77c4ea3754b7",
   "metadata": {},
   "outputs": [
    {
     "data": {
      "text/plain": [
       "7"
      ]
     },
     "execution_count": 27,
     "metadata": {},
     "output_type": "execute_result"
    }
   ],
   "source": [
    "#adição\n",
    "x,y = 4,3\n",
    "\n",
    "resultado = x + y\n",
    "\n",
    "resultado"
   ]
  },
  {
   "cell_type": "code",
   "execution_count": 28,
   "id": "6bdd2d51-f004-4056-98d7-06e52bf2b637",
   "metadata": {},
   "outputs": [
    {
     "data": {
      "text/plain": [
       "1"
      ]
     },
     "execution_count": 28,
     "metadata": {},
     "output_type": "execute_result"
    }
   ],
   "source": [
    "#subtração\n",
    "x,y = 4,3\n",
    "\n",
    "resultado = x - y\n",
    "\n",
    "resultado"
   ]
  },
  {
   "cell_type": "code",
   "execution_count": 29,
   "id": "f678bf58-d7e3-4176-885a-64e85a55ce59",
   "metadata": {},
   "outputs": [
    {
     "data": {
      "text/plain": [
       "12"
      ]
     },
     "execution_count": 29,
     "metadata": {},
     "output_type": "execute_result"
    }
   ],
   "source": [
    "#multiplicação\n",
    "x,y = 4,3\n",
    "\n",
    "resultado = x * y\n",
    "\n",
    "resultado"
   ]
  },
  {
   "cell_type": "code",
   "execution_count": 31,
   "id": "9e5eda98-d5e0-4011-8651-0c673dd66240",
   "metadata": {},
   "outputs": [
    {
     "data": {
      "text/plain": [
       "5.0"
      ]
     },
     "execution_count": 31,
     "metadata": {},
     "output_type": "execute_result"
    }
   ],
   "source": [
    "#divisão\n",
    "x,y = 15,3\n",
    "\n",
    "resultado = x / y\n",
    "\n",
    "resultado"
   ]
  },
  {
   "cell_type": "code",
   "execution_count": 33,
   "id": "51dbfaf7-e829-4561-a52a-a3bc11dfa998",
   "metadata": {},
   "outputs": [
    {
     "data": {
      "text/plain": [
       "5"
      ]
     },
     "execution_count": 33,
     "metadata": {},
     "output_type": "execute_result"
    }
   ],
   "source": [
    "#floor division = descarta a parte decimal da divisão\n",
    "x,y = 16,3\n",
    "\n",
    "resultado = x // y\n",
    "\n",
    "resultado"
   ]
  },
  {
   "cell_type": "code",
   "execution_count": 35,
   "id": "f1aa0974-7559-4035-803c-66c17b4b10d1",
   "metadata": {},
   "outputs": [
    {
     "data": {
      "text/plain": [
       "1"
      ]
     },
     "execution_count": 35,
     "metadata": {},
     "output_type": "execute_result"
    }
   ],
   "source": [
    "#modulo = fornece o resta quando 16 é divido por 5\n",
    "x,y = 16,5\n",
    "\n",
    "resultado = x % y\n",
    "\n",
    "resultado"
   ]
  },
  {
   "cell_type": "code",
   "execution_count": 38,
   "id": "483f77f8-ea92-4635-81f5-1d0a3fdd91e1",
   "metadata": {},
   "outputs": [
    {
     "data": {
      "text/plain": [
       "64"
      ]
     },
     "execution_count": 38,
     "metadata": {},
     "output_type": "execute_result"
    }
   ],
   "source": [
    "#expoente / potencia\n",
    "x,y = 4,3\n",
    "\n",
    "resultado = x ** y\n",
    "\n",
    "resultado"
   ]
  },
  {
   "cell_type": "markdown",
   "id": "3850f6e6-5b90-4b90-a624-8c1f902a5ad0",
   "metadata": {},
   "source": [
    "operadores de atribuição"
   ]
  },
  {
   "cell_type": "code",
   "execution_count": 71,
   "id": "aaecdb80-6a83-41cb-bcb3-c0ae5e3b4912",
   "metadata": {},
   "outputs": [
    {
     "data": {
      "text/plain": [
       "5"
      ]
     },
     "execution_count": 71,
     "metadata": {},
     "output_type": "execute_result"
    }
   ],
   "source": [
    "x = 5\n",
    "x"
   ]
  },
  {
   "cell_type": "code",
   "execution_count": 76,
   "id": "22e472fe-8f05-425f-9465-7fde167de2ce",
   "metadata": {},
   "outputs": [
    {
     "data": {
      "text/plain": [
       "20"
      ]
     },
     "execution_count": 76,
     "metadata": {},
     "output_type": "execute_result"
    }
   ],
   "source": [
    "x = x + 5\n",
    "x"
   ]
  },
  {
   "cell_type": "code",
   "execution_count": 78,
   "id": "8a0012fb-16d0-411d-92f0-98ff98b06d95",
   "metadata": {},
   "outputs": [
    {
     "data": {
      "text/plain": [
       "30"
      ]
     },
     "execution_count": 78,
     "metadata": {},
     "output_type": "execute_result"
    }
   ],
   "source": [
    "# x = x + 15\n",
    "x += 5\n",
    "x"
   ]
  },
  {
   "cell_type": "code",
   "execution_count": 79,
   "id": "b7cbfd0f-884f-4b0a-8d63-51b145997665",
   "metadata": {},
   "outputs": [
    {
     "data": {
      "text/plain": [
       "25"
      ]
     },
     "execution_count": 79,
     "metadata": {},
     "output_type": "execute_result"
    }
   ],
   "source": [
    "# x = x - 15\n",
    "x -= 5\n",
    "x"
   ]
  },
  {
   "cell_type": "code",
   "execution_count": 80,
   "id": "91b33e55-1632-4c18-948f-a9d36fad431d",
   "metadata": {},
   "outputs": [
    {
     "data": {
      "text/plain": [
       "125"
      ]
     },
     "execution_count": 80,
     "metadata": {},
     "output_type": "execute_result"
    }
   ],
   "source": [
    "# x = x * 15\n",
    "x *= 5\n",
    "x"
   ]
  },
  {
   "cell_type": "code",
   "execution_count": 81,
   "id": "fdff6ea6-10d4-4d3d-9418-165ca5506d26",
   "metadata": {},
   "outputs": [
    {
     "data": {
      "text/plain": [
       "25"
      ]
     },
     "execution_count": 81,
     "metadata": {},
     "output_type": "execute_result"
    }
   ],
   "source": [
    "# x = x / 5\n",
    "x //= 5\n",
    "x"
   ]
  }
 ],
 "metadata": {
  "kernelspec": {
   "display_name": "Python 3 (ipykernel)",
   "language": "python",
   "name": "python3"
  },
  "language_info": {
   "codemirror_mode": {
    "name": "ipython",
    "version": 3
   },
   "file_extension": ".py",
   "mimetype": "text/x-python",
   "name": "python",
   "nbconvert_exporter": "python",
   "pygments_lexer": "ipython3",
   "version": "3.11.7"
  }
 },
 "nbformat": 4,
 "nbformat_minor": 5
}
