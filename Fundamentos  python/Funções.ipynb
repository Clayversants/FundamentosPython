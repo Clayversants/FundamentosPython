{
 "cells": [
  {
   "cell_type": "code",
   "execution_count": 2,
   "id": "958cbbac-a0c3-4912-aa46-0ab91e7ec1ef",
   "metadata": {},
   "outputs": [
    {
     "name": "stdout",
     "output_type": "stream",
     "text": [
      "15\n",
      "55\n"
     ]
    }
   ],
   "source": [
    "#funções integradas\n",
    "\n",
    "texto = \"hello, world!!!\"\n",
    "comprimento = len(texto)\n",
    "print(comprimento)\n",
    "\n",
    "\n",
    "numeros = [1,2,3,4,5,6,7,8,9,10]\n",
    "soma = sum(numeros)\n",
    "print(soma)"
   ]
  },
  {
   "cell_type": "code",
   "execution_count": 9,
   "id": "8fce71a5-626a-48eb-aa16-fc756edadc5b",
   "metadata": {},
   "outputs": [
    {
     "data": {
      "text/plain": [
       "25.0"
      ]
     },
     "execution_count": 9,
     "metadata": {},
     "output_type": "execute_result"
    }
   ],
   "source": [
    "#funções de terceiros...quando importamos\n",
    "\n",
    "import math\n",
    "\n",
    "numero = 25\n",
    "\n",
    "raiz_quadrada = math.sqrt(numero)\n",
    "\n",
    "raiz_quadrada\n",
    "\n",
    "\n",
    "numero2 = 5\n",
    "potencia = math.pow(5,2)\n",
    "potencia"
   ]
  },
  {
   "cell_type": "code",
   "execution_count": 10,
   "id": "b3577d31-6f96-4870-aa54-f8891ed0cc17",
   "metadata": {},
   "outputs": [],
   "source": [
    "#funções proprias\n",
    "\n",
    "def calcular_quadrado(numero):\n",
    "    quadrado = numero ** 2\n",
    "    return quadrado\n"
   ]
  },
  {
   "cell_type": "code",
   "execution_count": 15,
   "id": "53621d74-3a62-4fff-bd88-9fd5d0840cd4",
   "metadata": {},
   "outputs": [
    {
     "data": {
      "text/plain": [
       "25"
      ]
     },
     "execution_count": 15,
     "metadata": {},
     "output_type": "execute_result"
    }
   ],
   "source": [
    "calcular_quadrado(5)"
   ]
  },
  {
   "cell_type": "code",
   "execution_count": null,
   "id": "5b6f6d0c-c55d-4f95-8dff-230b6b1c9774",
   "metadata": {},
   "outputs": [],
   "source": []
  }
 ],
 "metadata": {
  "kernelspec": {
   "display_name": "Python 3 (ipykernel)",
   "language": "python",
   "name": "python3"
  },
  "language_info": {
   "codemirror_mode": {
    "name": "ipython",
    "version": 3
   },
   "file_extension": ".py",
   "mimetype": "text/x-python",
   "name": "python",
   "nbconvert_exporter": "python",
   "pygments_lexer": "ipython3",
   "version": "3.11.7"
  }
 },
 "nbformat": 4,
 "nbformat_minor": 5
}
