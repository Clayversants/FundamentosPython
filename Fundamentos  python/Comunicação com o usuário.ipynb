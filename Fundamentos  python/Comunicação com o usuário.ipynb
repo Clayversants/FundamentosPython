{
 "cells": [
  {
   "cell_type": "markdown",
   "id": "04e07624-7e6f-479a-8941-c02b79788a40",
   "metadata": {},
   "source": [
    "Comunicação com o Usuário\n",
    "\n",
    "Input"
   ]
  },
  {
   "cell_type": "code",
   "execution_count": 13,
   "id": "dd5aae35-141b-42ee-adf0-66f30b57a2db",
   "metadata": {
    "scrolled": true
   },
   "outputs": [
    {
     "name": "stdin",
     "output_type": "stream",
     "text": [
      "Informe seu nome:  Clayver\n",
      "Informe seu sobrenome:  Correa\n"
     ]
    },
    {
     "data": {
      "text/plain": [
       "('Clayver', 'Correa')"
      ]
     },
     "execution_count": 13,
     "metadata": {},
     "output_type": "execute_result"
    }
   ],
   "source": [
    "primeiroNome = input(\"Informe seu nome: \")\n",
    "sobreNome = input(\"Informe seu sobrenome: \")\n",
    "\n",
    "primeiroNome,sobreNome"
   ]
  },
  {
   "cell_type": "markdown",
   "id": "b2a332fa-0a67-47ac-8dc5-08c79c893cee",
   "metadata": {},
   "source": [
    "Print"
   ]
  },
  {
   "cell_type": "code",
   "execution_count": 17,
   "id": "04bfa029-9475-4a81-ae02-773a363df908",
   "metadata": {},
   "outputs": [
    {
     "name": "stdout",
     "output_type": "stream",
     "text": [
      "Olá,Clayver Correa.Seja bem-vindo(a)!\n"
     ]
    }
   ],
   "source": [
    "print(f\"Olá,{primeiroNome} {sobreNome}.Seja bem-vindo(a)!\")"
   ]
  },
  {
   "cell_type": "markdown",
   "id": "5b426446-d927-49a3-8def-cbdf836d9149",
   "metadata": {},
   "source": [
    "Triple Quotes"
   ]
  },
  {
   "cell_type": "code",
   "execution_count": 19,
   "id": "700f7d83-20a0-4cfc-a016-b1d37f9dbee7",
   "metadata": {},
   "outputs": [
    {
     "name": "stdout",
     "output_type": "stream",
     "text": [
      "\n",
      "    Este texto permite várias linhas.\n",
      "    Veja o exemplo após imprimir com a função print()\n",
      "\n"
     ]
    }
   ],
   "source": [
    "#\"\"\" #'''\n",
    "\n",
    "texto = \"\"\"\n",
    "    Este texto permite várias linhas.\n",
    "    Veja o exemplo após imprimir com a função print()\n",
    "\"\"\"\n",
    "\n",
    "print(texto)"
   ]
  },
  {
   "cell_type": "markdown",
   "id": "d17fedcb-fdd6-401a-a8ea-5b15716bb894",
   "metadata": {},
   "source": [
    "Escape Characters"
   ]
  },
  {
   "cell_type": "code",
   "execution_count": 24,
   "id": "6f11cb50-1a7c-46ad-bdcf-5116f82ac076",
   "metadata": {},
   "outputs": [
    {
     "name": "stdout",
     "output_type": "stream",
     "text": [
      "Olá \t mundo\n"
     ]
    }
   ],
   "source": [
    "# \\t = tab\n",
    "\n",
    "texto = \"Olá \\t mundo\"\n",
    "\n",
    "print(texto)"
   ]
  },
  {
   "cell_type": "code",
   "execution_count": 28,
   "id": "bcb2eaec-4b8e-4984-9428-231abf7cd357",
   "metadata": {},
   "outputs": [
    {
     "name": "stdout",
     "output_type": "stream",
     "text": [
      "Olá\n",
      "mundo\n"
     ]
    }
   ],
   "source": [
    "# \\n = nova linha\n",
    "\n",
    "texto = \"Olá\\nmundo\"\n",
    "\n",
    "print(texto)"
   ]
  },
  {
   "cell_type": "code",
   "execution_count": 29,
   "id": "cdb8ed58-8715-4572-9fcf-5be7be8fb450",
   "metadata": {},
   "outputs": [
    {
     "name": "stdout",
     "output_type": "stream",
     "text": [
      "10 \\ 5 = 2\n"
     ]
    }
   ],
   "source": [
    "# \\\\ = \\\n",
    "\n",
    "texto = \"10 \\\\ 5 = 2\"\n",
    "\n",
    "print(texto)"
   ]
  }
 ],
 "metadata": {
  "kernelspec": {
   "display_name": "Python 3 (ipykernel)",
   "language": "python",
   "name": "python3"
  },
  "language_info": {
   "codemirror_mode": {
    "name": "ipython",
    "version": 3
   },
   "file_extension": ".py",
   "mimetype": "text/x-python",
   "name": "python",
   "nbconvert_exporter": "python",
   "pygments_lexer": "ipython3",
   "version": "3.11.7"
  }
 },
 "nbformat": 4,
 "nbformat_minor": 5
}
